{
 "cells": [
  {
   "cell_type": "code",
   "execution_count": 1,
   "metadata": {},
   "outputs": [],
   "source": [
    "from openpyxl import Workbook\n",
    "\n",
    "# 创建\n",
    "wb=Workbook() # 实例化\n",
    "# 激活worksheet\n",
    "ws=wb.active\n"
   ]
  },
  {
   "cell_type": "code",
   "execution_count": 2,
   "metadata": {},
   "outputs": [
    {
     "name": "stdout",
     "output_type": "stream",
     "text": [
      "E:\\Users\\Jupyter notebook\\Pytorch-hand-book\n"
     ]
    }
   ],
   "source": [
    "import os\n",
    "print(os.getcwd())"
   ]
  },
  {
   "cell_type": "code",
   "execution_count": 3,
   "metadata": {},
   "outputs": [],
   "source": [
    "from openpyxl import load_workbook\n",
    "wb2=load_workbook(\"test_openpyxl.xlsx\")"
   ]
  },
  {
   "cell_type": "code",
   "execution_count": 4,
   "metadata": {},
   "outputs": [],
   "source": [
    "# 存储数据\n",
    "# 方式一：数据可以直接分配到单元格中（可以输入公式）\n",
    "ws[\"A1\"]=40\n",
    "# 方式二：可以附加行，从最下方空白处，最左开始（可以输入多行）\n",
    "ws.append([1,2,3])\n",
    "# 方式三：python类型会自动转换\n"
   ]
  },
  {
   "cell_type": "code",
   "execution_count": 5,
   "metadata": {},
   "outputs": [],
   "source": [
    "# 创建表 sheet\n",
    "# 方式一：可以直接分配到单元格中\n",
    "ws1=wb.create_sheet(\"Mysheet\") # 插入到表的最后位置i\n",
    "ws2=wb.create_sheet(\"sheet\",0)\n"
   ]
  },
  {
   "cell_type": "code",
   "execution_count": 7,
   "metadata": {},
   "outputs": [],
   "source": [
    "# 选择表 sheet\n",
    "ws3=wb[\"Mysheet\"]\n",
    "# ws4=wb.get_sheet_by_name(\"Mysheet\")\n"
   ]
  },
  {
   "cell_type": "code",
   "execution_count": 11,
   "metadata": {},
   "outputs": [
    {
     "name": "stdout",
     "output_type": "stream",
     "text": [
      "<RequestsCookieJar[]>\n"
     ]
    }
   ],
   "source": [
    "import requests\n",
    "s=requests.Session()\n",
    "s.get(\"https://cuiqingcai.com\")\n",
    "r=s.get(\"https://cuiqingcai.com/2556.html\")\n",
    "print(r.cookies)"
   ]
  },
  {
   "cell_type": "code",
   "execution_count": 12,
   "metadata": {},
   "outputs": [
    {
     "name": "stdout",
     "output_type": "stream",
     "text": [
      "{\n",
      "  \"cookies\": {}\n",
      "}\n",
      "\n"
     ]
    }
   ],
   "source": [
    "import requests\n",
    " \n",
    "requests.get('http://httpbin.org/cookies/set/sessioncookie/123456789')\n",
    "r = requests.get(\"http://httpbin.org/cookies\")\n",
    "print(r.text)"
   ]
  },
  {
   "cell_type": "code",
   "execution_count": 14,
   "metadata": {},
   "outputs": [
    {
     "name": "stdout",
     "output_type": "stream",
     "text": [
      "<RequestsCookieJar[<Cookie X_HTTP_TOKEN=42daf4b72327b2819016682851bf5e71415983ed09 for .lagou.com/>, <Cookie user_trace_token=20200228130149-22daf029-5fd7-4cae-8136-5f084897b75b for .lagou.com/>, <Cookie JSESSIONID=ABAAABAABFIAAACB3E35DA4C7D7C446737B5FE0DDE9AE1D for www.lagou.com/>, <Cookie SEARCH_ID=86b2c1ece56048e49c37b2c76e872494 for www.lagou.com/>]>\n"
     ]
    }
   ],
   "source": [
    "headers={\"User-Agent\":\"Mozilla/5.0 (Windows NT 10.0; Win64; x64) AppleWebKit/537.36 (KHTML, like Gecko) Chrome/79.0.3945.130 Safari/537.36\"}\n",
    "s = requests.Session()\n",
    "urls = 'https://www.lagou.com/jobs/list_Python?labelWords=&fromSearch=true&suginput='\n",
    "# 获取搜索页的cookies\n",
    "s.get(urls, headers=headers, timeout=3)\n",
    "# 为此次获取的cookies\n",
    "cookie = s.cookies\n",
    "# 获取此次文本\n",
    "print(cookie)"
   ]
  },
  {
   "cell_type": "code",
   "execution_count": null,
   "metadata": {},
   "outputs": [],
   "source": []
  }
 ],
 "metadata": {
  "kernelspec": {
   "display_name": "Python 3",
   "language": "python",
   "name": "python3"
  },
  "language_info": {
   "codemirror_mode": {
    "name": "ipython",
    "version": 3
   },
   "file_extension": ".py",
   "mimetype": "text/x-python",
   "name": "python",
   "nbconvert_exporter": "python",
   "pygments_lexer": "ipython3",
   "version": "3.7.3"
  }
 },
 "nbformat": 4,
 "nbformat_minor": 2
}
