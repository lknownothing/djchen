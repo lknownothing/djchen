{
 "cells": [
  {
   "cell_type": "markdown",
   "metadata": {},
   "source": [
    "Selemium这个库实际上是一个自动哈测试工具，现在已经被广泛应对JavaScript渲染的页面的爬取。但是配置要装上各种驱动，大规模部署的化是个难题。\n",
    "在pyppetter中，实际上背有类似Chrome浏览器类似的Chromnium浏览器在执行一些动作进行网页渲染，开发版和正式版的区别。"
   ]
  },
  {
   "cell_type": "markdown",
   "metadata": {},
   "source": []
  },
  {
   "cell_type": "code",
   "execution_count": 7,
   "metadata": {},
   "outputs": [
    {
     "data": {
      "text/plain": [
       "'\\n为了证明request无法正常请求网页内容，然后使用pyquery来解析页面中的每一个条目。\\n观察源码之后，我们发现每个条目class名为quote,所以这里选用了.quote这个css选择器来选择，最后输出条目\\n结果是0,就证明requests无法正常抓取到相关数据。因为这个页面是javascript渲染而成的\\n我们看到的内容都是网页加载后又执行javascript之后才形成的，因此这些条目并不原始存在于\\nhtml代码中，而requests只抓取原始的代码。\\n'"
      ]
     },
     "execution_count": 7,
     "metadata": {},
     "output_type": "execute_result"
    }
   ],
   "source": [
    "import pyppeteer\n",
    "import requests\n",
    "from pyquery import PyQuery as pq\n",
    "'''\n",
    "为了证明request无法正常请求网页内容，然后使用pyquery来解析页面中的每一个条目。\n",
    "观察源码之后，我们发现每个条目class名为quote,所以这里选用了.quote这个css选择器来选择，最后输出条目\n",
    "结果是0,就证明requests无法正常抓取到相关数据。因为这个页面是javascript渲染而成的\n",
    "我们看到的内容都是网页加载后又执行javascript之后才形成的，因此这些条目并不原始存在于\n",
    "html代码中，而requests只抓取原始的代码。\n",
    "'''"
   ]
  },
  {
   "cell_type": "code",
   "execution_count": 8,
   "metadata": {},
   "outputs": [
    {
     "name": "stdout",
     "output_type": "stream",
     "text": [
      "Quotes: 0\n"
     ]
    }
   ],
   "source": [
    "url=\"http://quotes.toscrape.com/js\"\n",
    "r=requests.get(url)\n",
    "doc=pq(r.text)\n",
    "print(\"Quotes:\",doc(\".Quota\").length)"
   ]
  },
  {
   "cell_type": "markdown",
   "metadata": {},
   "source": [
    "怎么解决：\n",
    "+ 分析网页源代码数据，如果数据隐藏在html的什么地方，以javascript变量的形式存在，直接提取就好了\n",
    "+ 分析ajax，很多数据是经过ajax请求时候获取的，所以可以分析其接口\n",
    "+ 模拟javascript渲染过程，直接抓取渲染后的结果    \n",
    "而Pyppeteer和Selenium就是使用第三种方法，"
   ]
  },
  {
   "cell_type": "code",
   "execution_count": 9,
   "metadata": {},
   "outputs": [],
   "source": [
    "import asyncio"
   ]
  },
  {
   "cell_type": "code",
   "execution_count": 11,
   "metadata": {},
   "outputs": [
    {
     "ename": "RuntimeError",
     "evalue": "This event loop is already running",
     "output_type": "error",
     "traceback": [
      "\u001b[1;31m---------------------------------------------------------------------------\u001b[0m",
      "\u001b[1;31mRuntimeError\u001b[0m                              Traceback (most recent call last)",
      "\u001b[1;32m<ipython-input-11-3411e3e18032>\u001b[0m in \u001b[0;36m<module>\u001b[1;34m\u001b[0m\n\u001b[0;32m     11\u001b[0m     \u001b[1;32mawait\u001b[0m \u001b[0mbrowser\u001b[0m\u001b[1;33m.\u001b[0m\u001b[0mclose\u001b[0m\u001b[1;33m(\u001b[0m\u001b[1;33m)\u001b[0m\u001b[1;33m\u001b[0m\u001b[1;33m\u001b[0m\u001b[0m\n\u001b[0;32m     12\u001b[0m \u001b[1;33m\u001b[0m\u001b[0m\n\u001b[1;32m---> 13\u001b[1;33m \u001b[0masyncio\u001b[0m\u001b[1;33m.\u001b[0m\u001b[0mget_event_loop\u001b[0m\u001b[1;33m(\u001b[0m\u001b[1;33m)\u001b[0m\u001b[1;33m.\u001b[0m\u001b[0mrun_until_complete\u001b[0m\u001b[1;33m(\u001b[0m\u001b[0mmain\u001b[0m\u001b[1;33m(\u001b[0m\u001b[1;33m)\u001b[0m\u001b[1;33m)\u001b[0m\u001b[1;33m\u001b[0m\u001b[1;33m\u001b[0m\u001b[0m\n\u001b[0m",
      "\u001b[1;32mc:\\program files (x86)\\python1\\lib\\asyncio\\base_events.py\u001b[0m in \u001b[0;36mrun_until_complete\u001b[1;34m(self, future)\u001b[0m\n\u001b[0;32m    569\u001b[0m         \u001b[0mfuture\u001b[0m\u001b[1;33m.\u001b[0m\u001b[0madd_done_callback\u001b[0m\u001b[1;33m(\u001b[0m\u001b[0m_run_until_complete_cb\u001b[0m\u001b[1;33m)\u001b[0m\u001b[1;33m\u001b[0m\u001b[1;33m\u001b[0m\u001b[0m\n\u001b[0;32m    570\u001b[0m         \u001b[1;32mtry\u001b[0m\u001b[1;33m:\u001b[0m\u001b[1;33m\u001b[0m\u001b[1;33m\u001b[0m\u001b[0m\n\u001b[1;32m--> 571\u001b[1;33m             \u001b[0mself\u001b[0m\u001b[1;33m.\u001b[0m\u001b[0mrun_forever\u001b[0m\u001b[1;33m(\u001b[0m\u001b[1;33m)\u001b[0m\u001b[1;33m\u001b[0m\u001b[1;33m\u001b[0m\u001b[0m\n\u001b[0m\u001b[0;32m    572\u001b[0m         \u001b[1;32mexcept\u001b[0m\u001b[1;33m:\u001b[0m\u001b[1;33m\u001b[0m\u001b[1;33m\u001b[0m\u001b[0m\n\u001b[0;32m    573\u001b[0m             \u001b[1;32mif\u001b[0m \u001b[0mnew_task\u001b[0m \u001b[1;32mand\u001b[0m \u001b[0mfuture\u001b[0m\u001b[1;33m.\u001b[0m\u001b[0mdone\u001b[0m\u001b[1;33m(\u001b[0m\u001b[1;33m)\u001b[0m \u001b[1;32mand\u001b[0m \u001b[1;32mnot\u001b[0m \u001b[0mfuture\u001b[0m\u001b[1;33m.\u001b[0m\u001b[0mcancelled\u001b[0m\u001b[1;33m(\u001b[0m\u001b[1;33m)\u001b[0m\u001b[1;33m:\u001b[0m\u001b[1;33m\u001b[0m\u001b[1;33m\u001b[0m\u001b[0m\n",
      "\u001b[1;32mc:\\program files (x86)\\python1\\lib\\asyncio\\base_events.py\u001b[0m in \u001b[0;36mrun_forever\u001b[1;34m(self)\u001b[0m\n\u001b[0;32m    524\u001b[0m         \u001b[0mself\u001b[0m\u001b[1;33m.\u001b[0m\u001b[0m_check_closed\u001b[0m\u001b[1;33m(\u001b[0m\u001b[1;33m)\u001b[0m\u001b[1;33m\u001b[0m\u001b[1;33m\u001b[0m\u001b[0m\n\u001b[0;32m    525\u001b[0m         \u001b[1;32mif\u001b[0m \u001b[0mself\u001b[0m\u001b[1;33m.\u001b[0m\u001b[0mis_running\u001b[0m\u001b[1;33m(\u001b[0m\u001b[1;33m)\u001b[0m\u001b[1;33m:\u001b[0m\u001b[1;33m\u001b[0m\u001b[1;33m\u001b[0m\u001b[0m\n\u001b[1;32m--> 526\u001b[1;33m             \u001b[1;32mraise\u001b[0m \u001b[0mRuntimeError\u001b[0m\u001b[1;33m(\u001b[0m\u001b[1;34m'This event loop is already running'\u001b[0m\u001b[1;33m)\u001b[0m\u001b[1;33m\u001b[0m\u001b[1;33m\u001b[0m\u001b[0m\n\u001b[0m\u001b[0;32m    527\u001b[0m         \u001b[1;32mif\u001b[0m \u001b[0mevents\u001b[0m\u001b[1;33m.\u001b[0m\u001b[0m_get_running_loop\u001b[0m\u001b[1;33m(\u001b[0m\u001b[1;33m)\u001b[0m \u001b[1;32mis\u001b[0m \u001b[1;32mnot\u001b[0m \u001b[1;32mNone\u001b[0m\u001b[1;33m:\u001b[0m\u001b[1;33m\u001b[0m\u001b[1;33m\u001b[0m\u001b[0m\n\u001b[0;32m    528\u001b[0m             raise RuntimeError(\n",
      "\u001b[1;31mRuntimeError\u001b[0m: This event loop is already running"
     ]
    },
    {
     "name": "stderr",
     "output_type": "stream",
     "text": [
      "[W:pyppeteer.chromium_downloader] start chromium download.\n",
      "Download may take a few minutes.\n",
      "  8%|████▉                                                          | 10516480/133194757 [1:18:00<9:39:18, 3529.44it/s]"
     ]
    }
   ],
   "source": [
    "import asyncio\n",
    "from pyppeteer import launch\n",
    "from pyquery import PyQuery as pq\n",
    " \n",
    "async def main():\n",
    "    browser = await launch()\n",
    "    page = await browser.newPage()\n",
    "    await page.goto('http://quotes.toscrape.com/js/')\n",
    "    doc = pq(await page.content())\n",
    "    print('Quotes:', doc('.quote').length)\n",
    "    await browser.close()\n",
    " \n",
    "asyncio.get_event_loop().run_until_complete(main())"
   ]
  },
  {
   "cell_type": "markdown",
   "metadata": {},
   "source": [
    "看运行结果我们就成功匹配了class为quote的条目，总数为10条，具体内容可以用pyquery查看。\n",
    "pyppeteer完成了浏览器的开启，新建页面，页面加载等操作，另外，Pyppeteer里面进行了异步操作，所以需要async/await关键词来实现。launch方法会新建一个Browser对象，然后复制给browser,然后调用newPage方法相当于浏览器中新建一个选项卡，同时新建一个Page对象，Page对象调用了goto方法相当于在浏览器中输入这个url,浏览器跳转到对应的页面进行加载，加载完成之后，再调用content方法，返回当前浏览器页面的源代码，然后进一步的我们使用pyquery进行同样的解析，就可以得到JavaScript渲染的结果了。\n",
    "\n",
    "另外，其他的一些方法如调用asyncio的get_event_loop等方法的相关操作则属于python 异步async相关的内容了。不熟悉可以了解Python的async/await的相关知识。\n",
    "\n",
    "通过上面的代码就可以完成javascript渲染的页面的爬取了。\n",
    "\n",
    "这个过程中，我们没有配置Chrome浏览器，没有配置浏览器驱动，免去了一些繁琐的步骤，同样达到了Selenium的效果，还实现了异步抓取。\n",
    "\n",
    "### 模拟网页截图\n",
    "下面的例子可以模拟网页截图，保存pdf,还可以执行自定义的javascript获得特定的内容。\n"
   ]
  },
  {
   "cell_type": "markdown",
   "metadata": {},
   "source": [
    "webdriver检测问题是怎样解决的？淘宝主要通过window.navigator.webdriver来对webdriverl进行检测，我们只需要使用javascript将它设置成为false即可"
   ]
  },
  {
   "cell_type": "code",
   "execution_count": null,
   "metadata": {},
   "outputs": [],
   "source": [
    "import asyncio   # 异步io\n",
    "form pyppeteer import launch\n",
    "width, height = 1366, 768\n",
    "async def main():\n",
    "    browser=await launch(headless=False，\n",
    "                        args=[f\"--window-size={width},{height}\"])\n",
    "    \n",
    "    page= await browser.newPage()\n",
    "    await page.setViewport({\"width\":width},\"height\":height)\n",
    "    \n",
    "    await page.goto(\"http://www.taobao.com\")\n",
    "    await asyncio.sleep(10)\n",
    "    \n",
    "asyncio.get_event_loop().run_until_complete(main())\n"
   ]
  },
  {
   "cell_type": "code",
   "execution_count": null,
   "metadata": {},
   "outputs": [],
   "source": [
    "import asyncio \n",
    "from pyppeteer import launch\n",
    "async def main():\n",
    "    browser=await launch(headless=False,args=[\"--disable-infobars\"])\n",
    "    page=await browser.newPage()\n",
    "    await page.goto(\"https://login.taobao.com/member/login.jhtml?redirectURL=https://www.taobao.com/\")\n",
    "    await page.evaluate('''() =>{ Object.defineProperties(navigator,{ webdriver:{ get: () => false } }) }''')\n",
    "    await asyncio.sleep(10)\n",
    "\n",
    "asyncio.get_event_loop().run_until_complete(main())\n",
    "    "
   ]
  },
  {
   "cell_type": "code",
   "execution_count": null,
   "metadata": {},
   "outputs": [],
   "source": []
  }
 ],
 "metadata": {
  "kernelspec": {
   "display_name": "Python 3",
   "language": "python",
   "name": "python3"
  },
  "language_info": {
   "codemirror_mode": {
    "name": "ipython",
    "version": 3
   },
   "file_extension": ".py",
   "mimetype": "text/x-python",
   "name": "python",
   "nbconvert_exporter": "python",
   "pygments_lexer": "ipython3",
   "version": "3.7.3"
  }
 },
 "nbformat": 4,
 "nbformat_minor": 2
}
