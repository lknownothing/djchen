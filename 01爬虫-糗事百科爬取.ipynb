{
 "cells": [
  {
   "cell_type": "markdown",
   "metadata": {},
   "source": [
    "我们现在爬取纯文本内容https://www.qiushibaike.com/text/ 的内容：\n",
    "目标：\n",
    "+ 内容列表，\n",
    "+ 作者名字 年龄 内容，点赞数目"
   ]
  },
  {
   "cell_type": "code",
   "execution_count": null,
   "metadata": {},
   "outputs": [],
   "source": [
    "import requests\n",
    "from bs4 import BeautifulSoup \n"
   ]
  },
  {
   "cell_type": "code",
   "execution_count": null,
   "metadata": {},
   "outputs": [],
   "source": [
    "def down_load(url):\n",
    "    headers={\"User-Agent\":\"Mozilla/5.0 (Windows NT 10.0; Win64; x64) AppleWebKit/537.36 (KHTML, like Gecko) Chrome/79.0.3945.130 Safari/537.36\"}\n",
    "    r=requests.get(url,headers=headers)\n",
    "    return r.text\n",
    "url=\"https://baike.baidu.com/item/%E5%8D%8E%E5%A4%8F%E6%96%87%E6%98%8E/432445\"\n",
    "# print(down_load(url))\n",
    "\n",
    "def get_content(html):\n",
    "    soup=BeautifulSoup(html,\"html.parser\")\n",
    "    con=soup.find(class_=\"lemma-summary\")  #  找到\n",
    "    print(con)\n",
    "    con_list=soup.find_all(\"div\",class_=\"para\")\n",
    "    for i in con_list:\n",
    "        print(i.find(\"div\"))\n",
    "\n",
    "html=down_load(url)\n",
    "get_content(html)\n",
    "\n",
    "        "
   ]
  },
  {
   "cell_type": "code",
   "execution_count": 1,
   "metadata": {},
   "outputs": [
    {
     "ename": "AttributeError",
     "evalue": "'NoneType' object has no attribute 'find_all'",
     "output_type": "error",
     "traceback": [
      "\u001b[1;31m---------------------------------------------------------------------------\u001b[0m",
      "\u001b[1;31mAttributeError\u001b[0m                            Traceback (most recent call last)",
      "\u001b[1;32m<ipython-input-1-ee8336277234>\u001b[0m in \u001b[0;36m<module>\u001b[1;34m\u001b[0m\n\u001b[0;32m     52\u001b[0m \u001b[1;33m\u001b[0m\u001b[0m\n\u001b[0;32m     53\u001b[0m \u001b[1;32mif\u001b[0m \u001b[0m__name__\u001b[0m \u001b[1;33m==\u001b[0m \u001b[1;34m'__main__'\u001b[0m\u001b[1;33m:\u001b[0m\u001b[1;33m\u001b[0m\u001b[1;33m\u001b[0m\u001b[0m\n\u001b[1;32m---> 54\u001b[1;33m    \u001b[0mmain\u001b[0m\u001b[1;33m(\u001b[0m\u001b[1;33m)\u001b[0m\u001b[1;33m\u001b[0m\u001b[1;33m\u001b[0m\u001b[0m\n\u001b[0m",
      "\u001b[1;32m<ipython-input-1-ee8336277234>\u001b[0m in \u001b[0;36mmain\u001b[1;34m()\u001b[0m\n\u001b[0;32m     49\u001b[0m        \u001b[0murl\u001b[0m \u001b[1;33m=\u001b[0m \u001b[1;34m'https://qiushibaike.com/text/page/{}'\u001b[0m\u001b[1;33m.\u001b[0m\u001b[0mformat\u001b[0m\u001b[1;33m(\u001b[0m\u001b[0mi\u001b[0m\u001b[1;33m)\u001b[0m\u001b[1;33m\u001b[0m\u001b[1;33m\u001b[0m\u001b[0m\n\u001b[0;32m     50\u001b[0m        \u001b[0mhtml\u001b[0m \u001b[1;33m=\u001b[0m \u001b[0mdownload_page\u001b[0m\u001b[1;33m(\u001b[0m\u001b[0murl\u001b[0m\u001b[1;33m)\u001b[0m\u001b[1;33m\u001b[0m\u001b[1;33m\u001b[0m\u001b[0m\n\u001b[1;32m---> 51\u001b[1;33m        \u001b[0mget_content\u001b[0m\u001b[1;33m(\u001b[0m\u001b[0mhtml\u001b[0m\u001b[1;33m,\u001b[0m \u001b[0mi\u001b[0m\u001b[1;33m)\u001b[0m\u001b[1;33m\u001b[0m\u001b[1;33m\u001b[0m\u001b[0m\n\u001b[0m\u001b[0;32m     52\u001b[0m \u001b[1;33m\u001b[0m\u001b[0m\n\u001b[0;32m     53\u001b[0m \u001b[1;32mif\u001b[0m \u001b[0m__name__\u001b[0m \u001b[1;33m==\u001b[0m \u001b[1;34m'__main__'\u001b[0m\u001b[1;33m:\u001b[0m\u001b[1;33m\u001b[0m\u001b[1;33m\u001b[0m\u001b[0m\n",
      "\u001b[1;32m<ipython-input-1-ee8336277234>\u001b[0m in \u001b[0;36mget_content\u001b[1;34m(html, page)\u001b[0m\n\u001b[0;32m     13\u001b[0m    \u001b[0msoup\u001b[0m \u001b[1;33m=\u001b[0m \u001b[0mBeautifulSoup\u001b[0m\u001b[1;33m(\u001b[0m\u001b[0mhtml\u001b[0m\u001b[1;33m,\u001b[0m \u001b[1;34m'html.parser'\u001b[0m\u001b[1;33m)\u001b[0m\u001b[1;33m\u001b[0m\u001b[1;33m\u001b[0m\u001b[0m\n\u001b[0;32m     14\u001b[0m    \u001b[0mcon\u001b[0m \u001b[1;33m=\u001b[0m \u001b[0msoup\u001b[0m\u001b[1;33m.\u001b[0m\u001b[0mfind\u001b[0m\u001b[1;33m(\u001b[0m\u001b[0mid\u001b[0m\u001b[1;33m=\u001b[0m\u001b[1;34m'content-left'\u001b[0m\u001b[1;33m)\u001b[0m  \u001b[1;31m# 如图一红色方框\u001b[0m\u001b[1;33m\u001b[0m\u001b[1;33m\u001b[0m\u001b[0m\n\u001b[1;32m---> 15\u001b[1;33m    \u001b[0mcon_list\u001b[0m \u001b[1;33m=\u001b[0m \u001b[0mcon\u001b[0m\u001b[1;33m.\u001b[0m\u001b[0mfind_all\u001b[0m\u001b[1;33m(\u001b[0m\u001b[1;34m'div'\u001b[0m\u001b[1;33m,\u001b[0m \u001b[0mclass_\u001b[0m\u001b[1;33m=\u001b[0m\u001b[1;34m\"article\"\u001b[0m\u001b[1;33m)\u001b[0m  \u001b[1;31m# 找到文章列表\u001b[0m\u001b[1;33m\u001b[0m\u001b[1;33m\u001b[0m\u001b[0m\n\u001b[0m\u001b[0;32m     16\u001b[0m    \u001b[1;32mfor\u001b[0m \u001b[0mi\u001b[0m \u001b[1;32min\u001b[0m \u001b[0mcon_list\u001b[0m\u001b[1;33m:\u001b[0m\u001b[1;33m\u001b[0m\u001b[1;33m\u001b[0m\u001b[0m\n\u001b[0;32m     17\u001b[0m        \u001b[0mauthor\u001b[0m \u001b[1;33m=\u001b[0m \u001b[0mi\u001b[0m\u001b[1;33m.\u001b[0m\u001b[0mfind\u001b[0m\u001b[1;33m(\u001b[0m\u001b[1;34m'h2'\u001b[0m\u001b[1;33m)\u001b[0m\u001b[1;33m.\u001b[0m\u001b[0mstring\u001b[0m  \u001b[1;31m# 获取作者名字\u001b[0m\u001b[1;33m\u001b[0m\u001b[1;33m\u001b[0m\u001b[0m\n",
      "\u001b[1;31mAttributeError\u001b[0m: 'NoneType' object has no attribute 'find_all'"
     ]
    }
   ],
   "source": [
    "import requests\n",
    "from bs4 import BeautifulSoup\n",
    "\n",
    "\n",
    "def download_page(url):\n",
    "   headers = {\"User-Agent\": \"Mozilla/5.0 (Windows NT 10.0; Win64; x64; rv:61.0) Gecko/20100101 Firefox/61.0\"}\n",
    "   r = requests.get(url, headers=headers)  # 增加headers, 模拟浏览器\n",
    "   return r.text\n",
    "\n",
    "\n",
    "def get_content(html, page):\n",
    "   output = \"\"\"第{}页 作者：{} 性别：{} 年龄：{} 点赞：{} 评论：{}\\n{}\\n------------\\n\"\"\" # 最终输出格式\n",
    "   soup = BeautifulSoup(html, 'html.parser')\n",
    "   con = soup.find(id='content-left')  # 如图一红色方框\n",
    "   con_list = con.find_all('div', class_=\"article\")  # 找到文章列表\n",
    "   for i in con_list:\n",
    "       author = i.find('h2').string  # 获取作者名字\n",
    "       content = i.find('div', class_='content').find('span').get_text()  # 获取内容\n",
    "       stats = i.find('div', class_='stats')\n",
    "       vote = stats.find('span', class_='stats-vote').find('i', class_='number').string\n",
    "       comment = stats.find('span', class_='stats-comments').find('i', class_='number').string\n",
    "       author_info = i.find('div', class_='articleGender')  # 获取作者 年龄，性别\n",
    "       if author_info is not None:  # 非匿名用户\n",
    "           class_list = author_info['class']\n",
    "           if \"womenIcon\" in class_list:\n",
    "               gender = '女'\n",
    "           elif \"manIcon\" in class_list:\n",
    "               gender = '男'\n",
    "           else:\n",
    "               gender = ''\n",
    "           age = author_info.string   # 获取年龄\n",
    "       else:  # 匿名用户\n",
    "           gender = ''\n",
    "           age = ''\n",
    "\n",
    "       save_txt(output.format(page, author, gender, age, vote, comment, content))\n",
    "\n",
    "\n",
    "def save_txt(*args):\n",
    "   for i in args:\n",
    "       with open('qiubai.txt', 'a', encoding='utf-8') as f:\n",
    "           f.write(i)\n",
    "\n",
    "\n",
    "def main():\n",
    "   # 我们点击下面链接，在页面下方可以看到共有13页，可以构造如下 url，\n",
    "   # 当然我们最好是用 Beautiful Soup找到页面底部有多少页。\n",
    "   for i in range(1, 14):\n",
    "       url = 'https://qiushibaike.com/text/page/{}'.format(i)\n",
    "       html = download_page(url)\n",
    "       get_content(html, i)\n",
    "\n",
    "if __name__ == '__main__':\n",
    "   main()"
   ]
  },
  {
   "cell_type": "code",
   "execution_count": null,
   "metadata": {},
   "outputs": [],
   "source": []
  }
 ],
 "metadata": {
  "kernelspec": {
   "display_name": "Python 3",
   "language": "python",
   "name": "python3"
  },
  "language_info": {
   "codemirror_mode": {
    "name": "ipython",
    "version": 3
   },
   "file_extension": ".py",
   "mimetype": "text/x-python",
   "name": "python",
   "nbconvert_exporter": "python",
   "pygments_lexer": "ipython3",
   "version": "3.7.3"
  }
 },
 "nbformat": 4,
 "nbformat_minor": 2
}
