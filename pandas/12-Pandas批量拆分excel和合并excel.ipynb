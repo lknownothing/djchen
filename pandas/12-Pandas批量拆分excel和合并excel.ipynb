{
 "cells": [
  {
   "cell_type": "markdown",
   "metadata": {},
   "source": [
    "实例演示：\n",
    "1. 将一个大的excel等份拆成多个excel\n",
    "2. 将小excel合并成一个大的excel并标记来源\n"
   ]
  },
  {
   "cell_type": "code",
   "execution_count": 1,
   "metadata": {},
   "outputs": [],
   "source": [
    "import os\n",
    "# print(os.getcwd())\n",
    "# \n",
    "work_dir=\"./course_datas/c15_excel_split_merge\"  # 等同于root\n",
    "split_dir=f\"{work_dir}/拆分\"\n",
    "if not os.path.exists(split_dir):  # 如果下面的一个文件不存在，就建立一个\n",
    "    os.mkdir(split_dir)"
   ]
  },
  {
   "cell_type": "code",
   "execution_count": 2,
   "metadata": {},
   "outputs": [],
   "source": [
    "import pandas as pd\n",
    "df=pd.read_excel(f\"{work_dir}/crazyant_blog_articles_source.xlsx\")"
   ]
  },
  {
   "cell_type": "code",
   "execution_count": 3,
   "metadata": {},
   "outputs": [
    {
     "data": {
      "text/html": [
       "<div>\n",
       "<style scoped>\n",
       "    .dataframe tbody tr th:only-of-type {\n",
       "        vertical-align: middle;\n",
       "    }\n",
       "\n",
       "    .dataframe tbody tr th {\n",
       "        vertical-align: top;\n",
       "    }\n",
       "\n",
       "    .dataframe thead th {\n",
       "        text-align: right;\n",
       "    }\n",
       "</style>\n",
       "<table border=\"1\" class=\"dataframe\">\n",
       "  <thead>\n",
       "    <tr style=\"text-align: right;\">\n",
       "      <th></th>\n",
       "      <th>id</th>\n",
       "      <th>title</th>\n",
       "      <th>tags</th>\n",
       "    </tr>\n",
       "  </thead>\n",
       "  <tbody>\n",
       "    <tr>\n",
       "      <th>0</th>\n",
       "      <td>2585</td>\n",
       "      <td>Tensorflow怎样接收变长列表特征</td>\n",
       "      <td>python,tensorflow,特征工程</td>\n",
       "    </tr>\n",
       "    <tr>\n",
       "      <th>1</th>\n",
       "      <td>2583</td>\n",
       "      <td>Pandas实现数据的合并concat</td>\n",
       "      <td>pandas,python,数据分析</td>\n",
       "    </tr>\n",
       "    <tr>\n",
       "      <th>2</th>\n",
       "      <td>2574</td>\n",
       "      <td>Pandas的Index索引有什么用途？</td>\n",
       "      <td>pandas,python,数据分析</td>\n",
       "    </tr>\n",
       "    <tr>\n",
       "      <th>3</th>\n",
       "      <td>2564</td>\n",
       "      <td>机器学习常用数据集大全</td>\n",
       "      <td>python,机器学习</td>\n",
       "    </tr>\n",
       "    <tr>\n",
       "      <th>4</th>\n",
       "      <td>2561</td>\n",
       "      <td>一个数据科学家的修炼路径</td>\n",
       "      <td>数据分析</td>\n",
       "    </tr>\n",
       "  </tbody>\n",
       "</table>\n",
       "</div>"
      ],
      "text/plain": [
       "     id                 title                    tags\n",
       "0  2585  Tensorflow怎样接收变长列表特征  python,tensorflow,特征工程\n",
       "1  2583   Pandas实现数据的合并concat      pandas,python,数据分析\n",
       "2  2574  Pandas的Index索引有什么用途？      pandas,python,数据分析\n",
       "3  2564           机器学习常用数据集大全             python,机器学习\n",
       "4  2561          一个数据科学家的修炼路径                    数据分析"
      ]
     },
     "execution_count": 3,
     "metadata": {},
     "output_type": "execute_result"
    }
   ],
   "source": [
    "df.head()"
   ]
  },
  {
   "cell_type": "code",
   "execution_count": 4,
   "metadata": {},
   "outputs": [
    {
     "data": {
      "text/plain": [
       "(258, 3)"
      ]
     },
     "execution_count": 4,
     "metadata": {},
     "output_type": "execute_result"
    }
   ],
   "source": [
    "df.shape"
   ]
  },
  {
   "cell_type": "markdown",
   "metadata": {},
   "source": [
    "将以上excel拆分成六个。保存到六个文件中去，\n"
   ]
  },
  {
   "cell_type": "code",
   "execution_count": 5,
   "metadata": {},
   "outputs": [
    {
     "data": {
      "text/plain": [
       "43"
      ]
     },
     "execution_count": 5,
     "metadata": {},
     "output_type": "execute_result"
    }
   ],
   "source": [
    "user_names=list(\"ABCDEF\")\n",
    "total_row=df.shape[0]\n",
    "split_size=total_row//len(user_names)\n",
    "if total_row % len(user_names)!=0:\n",
    "    split_size+=1\n",
    "split_size"
   ]
  },
  {
   "cell_type": "code",
   "execution_count": 8,
   "metadata": {},
   "outputs": [
    {
     "name": "stdout",
     "output_type": "stream",
     "text": [
      "0 A\n",
      "1 B\n",
      "2 C\n",
      "3 D\n",
      "4 E\n",
      "5 F\n"
     ]
    }
   ],
   "source": [
    "df_subs=[]\n",
    "for idx,user_name in enumerate(user_names):\n",
    "    start=idx*split_size\n",
    "    end=start+split_size\n",
    "    df_sub=df.iloc[start:end]\n",
    "    df_subs.append((idx,user_name,df_sub))  # 将idx,name和 负责的表格区域分割好\n",
    "   \n",
    "for idx,username,df_sub in df_subs:\n",
    "    print(idx,username)\n",
    "    file_name=f\"{split_dir}/crazyant_blog_articles_{username}_{idx}.xlsx\"\n",
    "    df_sub.to_excel(file_name,index=False)"
   ]
  },
  {
   "cell_type": "markdown",
   "metadata": {},
   "source": [
    "### 合并多个小excel到一个大excel\n",
    "+ 遍历文件夹，找到所有的excel\n",
    "+ 分别读取到dataframe,给每个df添加一列用于标记来源\n",
    "+ 使用pd.concat 进行批量合并\n",
    "+ 将合并后的dataframe输出到excel"
   ]
  },
  {
   "cell_type": "code",
   "execution_count": 9,
   "metadata": {},
   "outputs": [
    {
     "data": {
      "text/plain": [
       "['crazyant_blog_articles_A_0.xlsx',\n",
       " 'crazyant_blog_articles_B_1.xlsx',\n",
       " 'crazyant_blog_articles_C_2.xlsx',\n",
       " 'crazyant_blog_articles_D_3.xlsx',\n",
       " 'crazyant_blog_articles_E_4.xlsx',\n",
       " 'crazyant_blog_articles_F_5.xlsx']"
      ]
     },
     "execution_count": 9,
     "metadata": {},
     "output_type": "execute_result"
    }
   ],
   "source": [
    "# 遍历文件按夹\n",
    "names=[]\n",
    "for i in os.listdir(split_dir):\n",
    "    names.append(i)\n",
    "names"
   ]
  },
  {
   "cell_type": "code",
   "execution_count": 25,
   "metadata": {},
   "outputs": [
    {
     "name": "stdout",
     "output_type": "stream",
     "text": [
      "./course_datas/c15_excel_split_merge/拆分/crazyant_blog_articles_A_0.xlsx\n",
      "A\n",
      "<class 'pandas.core.frame.DataFrame'>\n",
      "./course_datas/c15_excel_split_merge/拆分/crazyant_blog_articles_B_1.xlsx\n",
      "B\n",
      "<class 'pandas.core.frame.DataFrame'>\n",
      "./course_datas/c15_excel_split_merge/拆分/crazyant_blog_articles_C_2.xlsx\n",
      "C\n",
      "<class 'pandas.core.frame.DataFrame'>\n",
      "./course_datas/c15_excel_split_merge/拆分/crazyant_blog_articles_D_3.xlsx\n",
      "D\n",
      "<class 'pandas.core.frame.DataFrame'>\n",
      "./course_datas/c15_excel_split_merge/拆分/crazyant_blog_articles_E_4.xlsx\n",
      "E\n",
      "<class 'pandas.core.frame.DataFrame'>\n",
      "./course_datas/c15_excel_split_merge/拆分/crazyant_blog_articles_F_5.xlsx\n",
      "F\n",
      "<class 'pandas.core.frame.DataFrame'>\n"
     ]
    }
   ],
   "source": [
    "all_content_list=[]\n",
    "# 读取文件存为dataframe格式\n",
    "for read_name in names:\n",
    "    read_path=f\"{split_dir}/{read_name}\"\n",
    "    print(read_path)\n",
    "    read_content=pd.read_excel(read_path)  # 得到读取的dataframe\n",
    "    # 提取用户名，知道是谁负责的\n",
    "    do_name=read_name.split(\"_\")[-2]\n",
    "    print(do_name)\n",
    "    read_content.loc[:,\"who do this\"]=do_name  # 新增一列\n",
    "    print(type(read_content))\n",
    "    all_content_list.append(read_content)\n"
   ]
  },
  {
   "cell_type": "markdown",
   "metadata": {},
   "source": [
    "### 使用pd.concat进行合并\n",
    "+ concat的对象是一个dataframe的列表\\[dataframe,dataframe,datafram\\]"
   ]
  },
  {
   "cell_type": "code",
   "execution_count": 26,
   "metadata": {},
   "outputs": [],
   "source": [
    "df_merged=pd.concat(all_content_list)"
   ]
  },
  {
   "cell_type": "code",
   "execution_count": 28,
   "metadata": {},
   "outputs": [
    {
     "data": {
      "text/html": [
       "<div>\n",
       "<style scoped>\n",
       "    .dataframe tbody tr th:only-of-type {\n",
       "        vertical-align: middle;\n",
       "    }\n",
       "\n",
       "    .dataframe tbody tr th {\n",
       "        vertical-align: top;\n",
       "    }\n",
       "\n",
       "    .dataframe thead th {\n",
       "        text-align: right;\n",
       "    }\n",
       "</style>\n",
       "<table border=\"1\" class=\"dataframe\">\n",
       "  <thead>\n",
       "    <tr style=\"text-align: right;\">\n",
       "      <th></th>\n",
       "      <th>id</th>\n",
       "      <th>title</th>\n",
       "      <th>tags</th>\n",
       "      <th>who do this</th>\n",
       "    </tr>\n",
       "  </thead>\n",
       "  <tbody>\n",
       "    <tr>\n",
       "      <th>0</th>\n",
       "      <td>2585</td>\n",
       "      <td>Tensorflow怎样接收变长列表特征</td>\n",
       "      <td>python,tensorflow,特征工程</td>\n",
       "      <td>A</td>\n",
       "    </tr>\n",
       "    <tr>\n",
       "      <th>1</th>\n",
       "      <td>2583</td>\n",
       "      <td>Pandas实现数据的合并concat</td>\n",
       "      <td>pandas,python,数据分析</td>\n",
       "      <td>A</td>\n",
       "    </tr>\n",
       "    <tr>\n",
       "      <th>2</th>\n",
       "      <td>2574</td>\n",
       "      <td>Pandas的Index索引有什么用途？</td>\n",
       "      <td>pandas,python,数据分析</td>\n",
       "      <td>A</td>\n",
       "    </tr>\n",
       "    <tr>\n",
       "      <th>3</th>\n",
       "      <td>2564</td>\n",
       "      <td>机器学习常用数据集大全</td>\n",
       "      <td>python,机器学习</td>\n",
       "      <td>A</td>\n",
       "    </tr>\n",
       "    <tr>\n",
       "      <th>4</th>\n",
       "      <td>2561</td>\n",
       "      <td>一个数据科学家的修炼路径</td>\n",
       "      <td>数据分析</td>\n",
       "      <td>A</td>\n",
       "    </tr>\n",
       "  </tbody>\n",
       "</table>\n",
       "</div>"
      ],
      "text/plain": [
       "     id                 title                    tags who do this\n",
       "0  2585  Tensorflow怎样接收变长列表特征  python,tensorflow,特征工程           A\n",
       "1  2583   Pandas实现数据的合并concat      pandas,python,数据分析           A\n",
       "2  2574  Pandas的Index索引有什么用途？      pandas,python,数据分析           A\n",
       "3  2564           机器学习常用数据集大全             python,机器学习           A\n",
       "4  2561          一个数据科学家的修炼路径                    数据分析           A"
      ]
     },
     "execution_count": 28,
     "metadata": {},
     "output_type": "execute_result"
    }
   ],
   "source": [
    "df_merged.head()"
   ]
  },
  {
   "cell_type": "code",
   "execution_count": 29,
   "metadata": {},
   "outputs": [
    {
     "data": {
      "text/plain": [
       "(258, 4)"
      ]
     },
     "execution_count": 29,
     "metadata": {},
     "output_type": "execute_result"
    }
   ],
   "source": [
    "df_merged.shape"
   ]
  },
  {
   "cell_type": "code",
   "execution_count": 33,
   "metadata": {},
   "outputs": [
    {
     "data": {
      "text/plain": [
       "D    43\n",
       "B    43\n",
       "F    43\n",
       "E    43\n",
       "C    43\n",
       "A    43\n",
       "Name: who do this, dtype: int64"
      ]
     },
     "execution_count": 33,
     "metadata": {},
     "output_type": "execute_result"
    }
   ],
   "source": [
    "df_merged[\"who do this\"].value_counts()"
   ]
  },
  {
   "cell_type": "code",
   "execution_count": 36,
   "metadata": {},
   "outputs": [],
   "source": [
    "df_merged.to_excel(f\"{split_dir}/merged_article.xlsx\",index=False) # 合并时候不需要index信息"
   ]
  },
  {
   "cell_type": "code",
   "execution_count": null,
   "metadata": {},
   "outputs": [],
   "source": []
  }
 ],
 "metadata": {
  "kernelspec": {
   "display_name": "Python 3",
   "language": "python",
   "name": "python3"
  },
  "language_info": {
   "codemirror_mode": {
    "name": "ipython",
    "version": 3
   },
   "file_extension": ".py",
   "mimetype": "text/x-python",
   "name": "python",
   "nbconvert_exporter": "python",
   "pygments_lexer": "ipython3",
   "version": "3.7.3"
  }
 },
 "nbformat": 4,
 "nbformat_minor": 2
}
