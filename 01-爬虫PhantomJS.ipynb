{
 "cells": [
  {
   "cell_type": "markdown",
   "metadata": {},
   "source": [
    "### 前言\n",
    "之前的爬虫都有一个共性，就是只能爬取单纯的html代码，如果页面时JS渲染的怎么办？如果我们单纯去分析一个个后台请求，手动去摸索JS渲染到的一些结果。我们需要一个好用的工具来像浏览器一样渲染JS处理的页面。\n",
    "PhantomJS是一个无界面的，可脚本编程的WebKit浏览器引擎，原生支持多种web标准：DOM操作，CSS选择器，JSON,Canvas和SVG。"
   ]
  }
 ],
 "metadata": {
  "kernelspec": {
   "display_name": "Python 3",
   "language": "python",
   "name": "python3"
  },
  "language_info": {
   "codemirror_mode": {
    "name": "ipython",
    "version": 3
   },
   "file_extension": ".py",
   "mimetype": "text/x-python",
   "name": "python",
   "nbconvert_exporter": "python",
   "pygments_lexer": "ipython3",
   "version": "3.7.3"
  }
 },
 "nbformat": 4,
 "nbformat_minor": 2
}
